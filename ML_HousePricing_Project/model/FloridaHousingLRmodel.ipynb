{
 "cells": [
  {
   "cell_type": "raw",
   "id": "008de7b0-2093-4fe0-971e-40f613e30920",
   "metadata": {},
   "source": [
    "This project involves the development of a Linear Regression model designed to predict the market value of houses in Central Florida. The goal is to create an accurate and reliable model that can assist in estimating property values based on relevant features."
   ]
  },
  {
   "cell_type": "raw",
   "id": "e0a9253b-0b78-4a8f-93f0-957116926092",
   "metadata": {},
   "source": [
    "This dataset was taken from kaggle, this is the data set's description:\n",
    "\n",
    "This dataset is a snapshot from October 2022 of all 48 homes in a section of a neighborhood nearby a large university in \n",
    "Central Florida. All of the homes are single family homes featuring a garage, a driveway, and a fenced-in backyard. \n",
    "Data was gathered by hand (keyboard) via a collection of sites, including Zillow, Realtor, Redfin, Trulia, and Orange \n",
    "County Property Appraiser. All homes were built in the same year in the early 2000's and feature central air and all \n",
    "other utilities typical of contemporary suburban homes in the United States. The area is close to a university and a large \n",
    "portion of renters are college students and young professionals, as well as families and older adults.\n",
    "\n",
    "There are 30 columns:\n",
    "\n",
    "HID: House ID, a unique identifier for each house (int from 1 to 48, not the actual address number)\n",
    "        -Sqft: The Square Footage of the Interior of the house (int)\n",
    "        -LandSqft: The Total Square Footage of the land (int)\n",
    "        -Neighbors: The number of homes directly adjacent to each house (int)\n",
    "        -Stories: The number of stories in each house (int)\n",
    "        -Pool: Does the house have a pool (int, 0 for 'No', 1 for 'Yes')\n",
    "        -Bedrooms: The number of bedrooms in each house (int)\n",
    "        -Bathrooms: The number of bathrooms (full or half) in each house (int)\n",
    "        -DateLastSold: The date on which the house was last sold (datetime)\n",
    "        -PropertyTaxes2022: The annual property taxes for 2022 (float)\n",
    "        -OwnedByBank: Is the house owned by a bank (int, 0 for 'No', 1 for 'Yes')\n",
    "        -OuterPortion: Is the house on the Outer Portion of the Neighborhood (int, 0 for 'No', 1 for 'Yes')\n",
    "        -NextToLoudRoad: Is the house directly adjacent to a loud road (int, 0 for 'No', 1 for 'Yes')\n",
    "        -PriceLastSold: Price that the house was last sold for (float)\n",
    "        -Zestimate: Zillow's Price Estimate for the house (float)\n",
    "        -RentZestimate: Zillow's Estimate for the Monthly Price of rent for the house (float)\n",
    "        -RealtorcomEstimate: Realtor dot com's Estimate for the house (float)\n",
    "        -RedfinEstimate: Redfin's Estimate for the house (float)\n",
    "        -TruliaEstimate: Trulia's Estimate for the house (float)\n",
    "        -OCPALandValue2022: The Land Value on the county's 2022 records (float)\n",
    "        -OCPABuildingValue2022: The Building Value on the county's 2022 records (float)\n",
    "        -OCPAFeaturesValue2022: The Features Value on the county's 2022 records (float)\n",
    "        -OCPAMarketValue2022: The Market Value on the county's 2022 records (float)\n",
    "        -OCPAAssessedValue2022: The Assessed Value on the county's 2022 records (float), AKA what homeowners are taxed on\n",
    "        -OCPALandValue2021: The Land Value on the county's 2021 records (float)\n",
    "        -OCPABuildingValue2021: The Building Value on the county's 2021 records (float)\n",
    "        -OCPAFeaturesValue2021: The Features Value on the county's 2021 records (float)\n",
    "        -OCPAMarketValue2021: The Market Value on the county's 2021 records (float)\n",
    "        -OCPAAssessedValue2021: The Assessed Value on the county's 2021 records (float), AKA what homeowners are taxed on\n",
    "        -Notes: any notes on any of the homes (str)"
   ]
  },
  {
   "cell_type": "code",
   "execution_count": 59,
   "id": "5fcf24db-14a8-4ab2-97df-ee0a59fb326e",
   "metadata": {},
   "outputs": [],
   "source": [
    "#Import basic libraries to clean data\n",
    "import numpy as np\n",
    "import pandas as pd\n",
    "import matplotlib.pyplot as plt\n",
    "\n",
    "#Imported this library to get rid of warnings that exposed my local directory\n",
    "import warnings\n",
    "warnings.simplefilter(action='ignore', category=UserWarning)"
   ]
  },
  {
   "cell_type": "code",
   "execution_count": 60,
   "id": "0dd9a0ce-721a-4934-97e4-3b5fd49cb391",
   "metadata": {},
   "outputs": [],
   "source": [
    "#Import excel file as a data frame\n",
    "df = pd.read_excel('neighborhood1.xlsx')"
   ]
  },
  {
   "cell_type": "code",
   "execution_count": 61,
   "id": "dd60f08a-a228-42af-8d07-927088a84937",
   "metadata": {},
   "outputs": [
    {
     "data": {
      "text/html": [
       "<div>\n",
       "<style scoped>\n",
       "    .dataframe tbody tr th:only-of-type {\n",
       "        vertical-align: middle;\n",
       "    }\n",
       "\n",
       "    .dataframe tbody tr th {\n",
       "        vertical-align: top;\n",
       "    }\n",
       "\n",
       "    .dataframe thead th {\n",
       "        text-align: right;\n",
       "    }\n",
       "</style>\n",
       "<table border=\"1\" class=\"dataframe\">\n",
       "  <thead>\n",
       "    <tr style=\"text-align: right;\">\n",
       "      <th></th>\n",
       "      <th>HID</th>\n",
       "      <th>Sqft</th>\n",
       "      <th>LandSqft</th>\n",
       "      <th>Neighbors</th>\n",
       "      <th>Stories</th>\n",
       "      <th>Pool</th>\n",
       "      <th>Bedrooms</th>\n",
       "      <th>Bathrooms</th>\n",
       "      <th>DateLastSold</th>\n",
       "      <th>PropertyTaxes2022</th>\n",
       "      <th>...</th>\n",
       "      <th>OCPABuildingValue2022</th>\n",
       "      <th>OCPAFeaturesValue2022</th>\n",
       "      <th>OCPAMarketValue2022</th>\n",
       "      <th>OCPAAssessedValue2022</th>\n",
       "      <th>OCPALandValue2021</th>\n",
       "      <th>OCPABuildingValue2021</th>\n",
       "      <th>OCPAFeaturesValue2021</th>\n",
       "      <th>OCPAMarketValue2021</th>\n",
       "      <th>OCPAAssessedValue2021</th>\n",
       "      <th>Notes</th>\n",
       "    </tr>\n",
       "  </thead>\n",
       "  <tbody>\n",
       "    <tr>\n",
       "      <th>0</th>\n",
       "      <td>1</td>\n",
       "      <td>2250</td>\n",
       "      <td>5895</td>\n",
       "      <td>2</td>\n",
       "      <td>2</td>\n",
       "      <td>0</td>\n",
       "      <td>6</td>\n",
       "      <td>3</td>\n",
       "      <td>2019-06-12</td>\n",
       "      <td>5081.46</td>\n",
       "      <td>...</td>\n",
       "      <td>261569.0</td>\n",
       "      <td>1000.0</td>\n",
       "      <td>322569.0</td>\n",
       "      <td>287978.0</td>\n",
       "      <td>52000.0</td>\n",
       "      <td>208798.0</td>\n",
       "      <td>1000.0</td>\n",
       "      <td>261798.0</td>\n",
       "      <td>261798.0</td>\n",
       "      <td>NaN</td>\n",
       "    </tr>\n",
       "    <tr>\n",
       "      <th>1</th>\n",
       "      <td>2</td>\n",
       "      <td>1264</td>\n",
       "      <td>5893</td>\n",
       "      <td>2</td>\n",
       "      <td>1</td>\n",
       "      <td>0</td>\n",
       "      <td>3</td>\n",
       "      <td>2</td>\n",
       "      <td>2022-04-29</td>\n",
       "      <td>389.40</td>\n",
       "      <td>...</td>\n",
       "      <td>186280.0</td>\n",
       "      <td>0.0</td>\n",
       "      <td>246280.0</td>\n",
       "      <td>183775.0</td>\n",
       "      <td>52000.0</td>\n",
       "      <td>147806.0</td>\n",
       "      <td>0.0</td>\n",
       "      <td>199806.0</td>\n",
       "      <td>178422.0</td>\n",
       "      <td>No Trulia Estimate, recently sold, and very lo...</td>\n",
       "    </tr>\n",
       "    <tr>\n",
       "      <th>2</th>\n",
       "      <td>3</td>\n",
       "      <td>1454</td>\n",
       "      <td>5770</td>\n",
       "      <td>2</td>\n",
       "      <td>1</td>\n",
       "      <td>0</td>\n",
       "      <td>3</td>\n",
       "      <td>2</td>\n",
       "      <td>2002-11-21</td>\n",
       "      <td>1647.60</td>\n",
       "      <td>...</td>\n",
       "      <td>192309.0</td>\n",
       "      <td>1000.0</td>\n",
       "      <td>253309.0</td>\n",
       "      <td>120675.0</td>\n",
       "      <td>52000.0</td>\n",
       "      <td>152401.0</td>\n",
       "      <td>1000.0</td>\n",
       "      <td>205401.0</td>\n",
       "      <td>117160.0</td>\n",
       "      <td>NaN</td>\n",
       "    </tr>\n",
       "    <tr>\n",
       "      <th>3</th>\n",
       "      <td>4</td>\n",
       "      <td>2250</td>\n",
       "      <td>7933</td>\n",
       "      <td>2</td>\n",
       "      <td>2</td>\n",
       "      <td>0</td>\n",
       "      <td>3</td>\n",
       "      <td>3</td>\n",
       "      <td>2002-09-13</td>\n",
       "      <td>5170.68</td>\n",
       "      <td>...</td>\n",
       "      <td>268261.0</td>\n",
       "      <td>1500.0</td>\n",
       "      <td>329761.0</td>\n",
       "      <td>292700.0</td>\n",
       "      <td>52000.0</td>\n",
       "      <td>212591.0</td>\n",
       "      <td>1500.0</td>\n",
       "      <td>266091.0</td>\n",
       "      <td>266091.0</td>\n",
       "      <td>NaN</td>\n",
       "    </tr>\n",
       "    <tr>\n",
       "      <th>4</th>\n",
       "      <td>5</td>\n",
       "      <td>1855</td>\n",
       "      <td>10747</td>\n",
       "      <td>2</td>\n",
       "      <td>1</td>\n",
       "      <td>0</td>\n",
       "      <td>3</td>\n",
       "      <td>2</td>\n",
       "      <td>2012-10-10</td>\n",
       "      <td>4684.08</td>\n",
       "      <td>...</td>\n",
       "      <td>235139.0</td>\n",
       "      <td>0.0</td>\n",
       "      <td>295139.0</td>\n",
       "      <td>263669.0</td>\n",
       "      <td>52000.0</td>\n",
       "      <td>187699.0</td>\n",
       "      <td>0.0</td>\n",
       "      <td>239699.0</td>\n",
       "      <td>239699.0</td>\n",
       "      <td>NaN</td>\n",
       "    </tr>\n",
       "  </tbody>\n",
       "</table>\n",
       "<p>5 rows × 30 columns</p>\n",
       "</div>"
      ],
      "text/plain": [
       "   HID  Sqft  LandSqft  Neighbors  Stories  Pool  Bedrooms  Bathrooms  \\\n",
       "0    1  2250      5895          2        2     0         6          3   \n",
       "1    2  1264      5893          2        1     0         3          2   \n",
       "2    3  1454      5770          2        1     0         3          2   \n",
       "3    4  2250      7933          2        2     0         3          3   \n",
       "4    5  1855     10747          2        1     0         3          2   \n",
       "\n",
       "  DateLastSold  PropertyTaxes2022  ...  OCPABuildingValue2022  \\\n",
       "0   2019-06-12            5081.46  ...               261569.0   \n",
       "1   2022-04-29             389.40  ...               186280.0   \n",
       "2   2002-11-21            1647.60  ...               192309.0   \n",
       "3   2002-09-13            5170.68  ...               268261.0   \n",
       "4   2012-10-10            4684.08  ...               235139.0   \n",
       "\n",
       "   OCPAFeaturesValue2022  OCPAMarketValue2022  OCPAAssessedValue2022  \\\n",
       "0                 1000.0             322569.0               287978.0   \n",
       "1                    0.0             246280.0               183775.0   \n",
       "2                 1000.0             253309.0               120675.0   \n",
       "3                 1500.0             329761.0               292700.0   \n",
       "4                    0.0             295139.0               263669.0   \n",
       "\n",
       "   OCPALandValue2021  OCPABuildingValue2021  OCPAFeaturesValue2021  \\\n",
       "0            52000.0               208798.0                 1000.0   \n",
       "1            52000.0               147806.0                    0.0   \n",
       "2            52000.0               152401.0                 1000.0   \n",
       "3            52000.0               212591.0                 1500.0   \n",
       "4            52000.0               187699.0                    0.0   \n",
       "\n",
       "   OCPAMarketValue2021  OCPAAssessedValue2021  \\\n",
       "0             261798.0               261798.0   \n",
       "1             199806.0               178422.0   \n",
       "2             205401.0               117160.0   \n",
       "3             266091.0               266091.0   \n",
       "4             239699.0               239699.0   \n",
       "\n",
       "                                               Notes  \n",
       "0                                                NaN  \n",
       "1  No Trulia Estimate, recently sold, and very lo...  \n",
       "2                                                NaN  \n",
       "3                                                NaN  \n",
       "4                                                NaN  \n",
       "\n",
       "[5 rows x 30 columns]"
      ]
     },
     "execution_count": 61,
     "metadata": {},
     "output_type": "execute_result"
    }
   ],
   "source": [
    "#Visualize data to decide what will be my feature variables (input variables)\n",
    "df.head()"
   ]
  },
  {
   "cell_type": "code",
   "execution_count": 62,
   "id": "09d62a56-fdfc-4c4e-b183-35697bbe98f8",
   "metadata": {},
   "outputs": [
    {
     "data": {
      "text/plain": [
       "(48, 30)"
      ]
     },
     "execution_count": 62,
     "metadata": {},
     "output_type": "execute_result"
    }
   ],
   "source": [
    "#Look at the shape of the dataframe to get a better understanding of our data frame\n",
    "df.shape"
   ]
  },
  {
   "cell_type": "code",
   "execution_count": 63,
   "id": "e83f4c22-5bcd-47f6-a066-a2292b37d47b",
   "metadata": {},
   "outputs": [
    {
     "data": {
      "text/html": [
       "<div>\n",
       "<style scoped>\n",
       "    .dataframe tbody tr th:only-of-type {\n",
       "        vertical-align: middle;\n",
       "    }\n",
       "\n",
       "    .dataframe tbody tr th {\n",
       "        vertical-align: top;\n",
       "    }\n",
       "\n",
       "    .dataframe thead th {\n",
       "        text-align: right;\n",
       "    }\n",
       "</style>\n",
       "<table border=\"1\" class=\"dataframe\">\n",
       "  <thead>\n",
       "    <tr style=\"text-align: right;\">\n",
       "      <th></th>\n",
       "      <th>Sqft</th>\n",
       "      <th>LandSqft</th>\n",
       "      <th>Neighbors</th>\n",
       "      <th>Stories</th>\n",
       "      <th>Pool</th>\n",
       "      <th>Bedrooms</th>\n",
       "      <th>Bathrooms</th>\n",
       "      <th>OCPAMarketValue2022</th>\n",
       "    </tr>\n",
       "  </thead>\n",
       "  <tbody>\n",
       "    <tr>\n",
       "      <th>0</th>\n",
       "      <td>2250</td>\n",
       "      <td>5895</td>\n",
       "      <td>2</td>\n",
       "      <td>2</td>\n",
       "      <td>0</td>\n",
       "      <td>6</td>\n",
       "      <td>3</td>\n",
       "      <td>322569.0</td>\n",
       "    </tr>\n",
       "    <tr>\n",
       "      <th>1</th>\n",
       "      <td>1264</td>\n",
       "      <td>5893</td>\n",
       "      <td>2</td>\n",
       "      <td>1</td>\n",
       "      <td>0</td>\n",
       "      <td>3</td>\n",
       "      <td>2</td>\n",
       "      <td>246280.0</td>\n",
       "    </tr>\n",
       "    <tr>\n",
       "      <th>2</th>\n",
       "      <td>1454</td>\n",
       "      <td>5770</td>\n",
       "      <td>2</td>\n",
       "      <td>1</td>\n",
       "      <td>0</td>\n",
       "      <td>3</td>\n",
       "      <td>2</td>\n",
       "      <td>253309.0</td>\n",
       "    </tr>\n",
       "    <tr>\n",
       "      <th>3</th>\n",
       "      <td>2250</td>\n",
       "      <td>7933</td>\n",
       "      <td>2</td>\n",
       "      <td>2</td>\n",
       "      <td>0</td>\n",
       "      <td>3</td>\n",
       "      <td>3</td>\n",
       "      <td>329761.0</td>\n",
       "    </tr>\n",
       "    <tr>\n",
       "      <th>4</th>\n",
       "      <td>1855</td>\n",
       "      <td>10747</td>\n",
       "      <td>2</td>\n",
       "      <td>1</td>\n",
       "      <td>0</td>\n",
       "      <td>3</td>\n",
       "      <td>2</td>\n",
       "      <td>295139.0</td>\n",
       "    </tr>\n",
       "  </tbody>\n",
       "</table>\n",
       "</div>"
      ],
      "text/plain": [
       "   Sqft  LandSqft  Neighbors  Stories  Pool  Bedrooms  Bathrooms  \\\n",
       "0  2250      5895          2        2     0         6          3   \n",
       "1  1264      5893          2        1     0         3          2   \n",
       "2  1454      5770          2        1     0         3          2   \n",
       "3  2250      7933          2        2     0         3          3   \n",
       "4  1855     10747          2        1     0         3          2   \n",
       "\n",
       "   OCPAMarketValue2022  \n",
       "0             322569.0  \n",
       "1             246280.0  \n",
       "2             253309.0  \n",
       "3             329761.0  \n",
       "4             295139.0  "
      ]
     },
     "execution_count": 63,
     "metadata": {},
     "output_type": "execute_result"
    }
   ],
   "source": [
    "#create a variable holding all the features that will be kept, including the feature and traget variables\n",
    "columns_to_keep = ['Sqft', 'LandSqft', 'Neighbors', 'Stories', 'Pool', 'Bedrooms', 'Bathrooms','OCPAMarketValue2022']\n",
    "#Create a new dataframe\n",
    "df1 = df[columns_to_keep]\n",
    "df1.head()"
   ]
  },
  {
   "cell_type": "code",
   "execution_count": 64,
   "id": "52e3294e-ea06-40c3-a4e3-49744cd7dcc8",
   "metadata": {},
   "outputs": [
    {
     "data": {
      "text/plain": [
       "Sqft                   0\n",
       "LandSqft               0\n",
       "Neighbors              0\n",
       "Stories                0\n",
       "Pool                   0\n",
       "Bedrooms               0\n",
       "Bathrooms              0\n",
       "OCPAMarketValue2022    1\n",
       "dtype: int64"
      ]
     },
     "execution_count": 64,
     "metadata": {},
     "output_type": "execute_result"
    }
   ],
   "source": [
    "#Check for null values inside the data frame\n",
    "df1.isnull().sum()"
   ]
  },
  {
   "cell_type": "markdown",
   "id": "7097c95f-2860-4518-a465-1bcfc4cbdce5",
   "metadata": {},
   "source": [
    "In this dataset, we have null values, which means we need to address the issue of missingness. After careful consideration, I decided to drop the rows with missing values in the target variable. This decision was made because imputing or substituting values for the target variable could introduce bias or inaccuracies into the model, potentially leading to less reliable predictions. Dropping these rows ensures that the model is trained only on complete and accurate data, which I believe will result in a more robust and accurate model."
   ]
  },
  {
   "cell_type": "code",
   "execution_count": 66,
   "id": "564cd325-a460-412b-864c-194ecd304230",
   "metadata": {},
   "outputs": [],
   "source": [
    "df1 = df1.dropna()"
   ]
  },
  {
   "cell_type": "code",
   "execution_count": 67,
   "id": "72d077c7-344a-439e-a18f-8d641e786422",
   "metadata": {},
   "outputs": [
    {
     "name": "stdout",
     "output_type": "stream",
     "text": [
      "<class 'pandas.core.frame.DataFrame'>\n",
      "Index: 47 entries, 0 to 47\n",
      "Data columns (total 8 columns):\n",
      " #   Column               Non-Null Count  Dtype  \n",
      "---  ------               --------------  -----  \n",
      " 0   Sqft                 47 non-null     int64  \n",
      " 1   LandSqft             47 non-null     int64  \n",
      " 2   Neighbors            47 non-null     int64  \n",
      " 3   Stories              47 non-null     int64  \n",
      " 4   Pool                 47 non-null     int64  \n",
      " 5   Bedrooms             47 non-null     int64  \n",
      " 6   Bathrooms            47 non-null     int64  \n",
      " 7   OCPAMarketValue2022  47 non-null     float64\n",
      "dtypes: float64(1), int64(7)\n",
      "memory usage: 3.3 KB\n"
     ]
    }
   ],
   "source": [
    "#Chack for that the data is clean \n",
    "df1.info()"
   ]
  },
  {
   "cell_type": "raw",
   "id": "fc9b5d4f-4189-4a4a-9f1c-b56634109864",
   "metadata": {},
   "source": [
    "After completing the data cleaning process, we can now proceed to build our model. I will use a Linear Regression model to predict the market value of a house. Once the model is trained, we will perform cross-validation to evaluate its performance and ensure it generalizes well to unseen data."
   ]
  },
  {
   "cell_type": "code",
   "execution_count": 68,
   "id": "3cf35b87-92b5-4155-b937-6bbda481b244",
   "metadata": {},
   "outputs": [
    {
     "data": {
      "text/html": [
       "<div>\n",
       "<style scoped>\n",
       "    .dataframe tbody tr th:only-of-type {\n",
       "        vertical-align: middle;\n",
       "    }\n",
       "\n",
       "    .dataframe tbody tr th {\n",
       "        vertical-align: top;\n",
       "    }\n",
       "\n",
       "    .dataframe thead th {\n",
       "        text-align: right;\n",
       "    }\n",
       "</style>\n",
       "<table border=\"1\" class=\"dataframe\">\n",
       "  <thead>\n",
       "    <tr style=\"text-align: right;\">\n",
       "      <th></th>\n",
       "      <th>Sqft</th>\n",
       "      <th>LandSqft</th>\n",
       "      <th>Neighbors</th>\n",
       "      <th>Stories</th>\n",
       "      <th>Pool</th>\n",
       "      <th>Bedrooms</th>\n",
       "      <th>Bathrooms</th>\n",
       "    </tr>\n",
       "  </thead>\n",
       "  <tbody>\n",
       "    <tr>\n",
       "      <th>0</th>\n",
       "      <td>2250</td>\n",
       "      <td>5895</td>\n",
       "      <td>2</td>\n",
       "      <td>2</td>\n",
       "      <td>0</td>\n",
       "      <td>6</td>\n",
       "      <td>3</td>\n",
       "    </tr>\n",
       "    <tr>\n",
       "      <th>1</th>\n",
       "      <td>1264</td>\n",
       "      <td>5893</td>\n",
       "      <td>2</td>\n",
       "      <td>1</td>\n",
       "      <td>0</td>\n",
       "      <td>3</td>\n",
       "      <td>2</td>\n",
       "    </tr>\n",
       "    <tr>\n",
       "      <th>2</th>\n",
       "      <td>1454</td>\n",
       "      <td>5770</td>\n",
       "      <td>2</td>\n",
       "      <td>1</td>\n",
       "      <td>0</td>\n",
       "      <td>3</td>\n",
       "      <td>2</td>\n",
       "    </tr>\n",
       "    <tr>\n",
       "      <th>3</th>\n",
       "      <td>2250</td>\n",
       "      <td>7933</td>\n",
       "      <td>2</td>\n",
       "      <td>2</td>\n",
       "      <td>0</td>\n",
       "      <td>3</td>\n",
       "      <td>3</td>\n",
       "    </tr>\n",
       "    <tr>\n",
       "      <th>4</th>\n",
       "      <td>1855</td>\n",
       "      <td>10747</td>\n",
       "      <td>2</td>\n",
       "      <td>1</td>\n",
       "      <td>0</td>\n",
       "      <td>3</td>\n",
       "      <td>2</td>\n",
       "    </tr>\n",
       "  </tbody>\n",
       "</table>\n",
       "</div>"
      ],
      "text/plain": [
       "   Sqft  LandSqft  Neighbors  Stories  Pool  Bedrooms  Bathrooms\n",
       "0  2250      5895          2        2     0         6          3\n",
       "1  1264      5893          2        1     0         3          2\n",
       "2  1454      5770          2        1     0         3          2\n",
       "3  2250      7933          2        2     0         3          3\n",
       "4  1855     10747          2        1     0         3          2"
      ]
     },
     "execution_count": 68,
     "metadata": {},
     "output_type": "execute_result"
    }
   ],
   "source": [
    "#Create our feature variable\n",
    "X = df1.drop('OCPAMarketValue2022', axis='columns')\n",
    "X.head()"
   ]
  },
  {
   "cell_type": "code",
   "execution_count": 69,
   "id": "71792eea-1698-45c5-a04a-cf7a47abef5f",
   "metadata": {},
   "outputs": [
    {
     "data": {
      "text/plain": [
       "0    322569.0\n",
       "1    246280.0\n",
       "2    253309.0\n",
       "3    329761.0\n",
       "4    295139.0\n",
       "Name: OCPAMarketValue2022, dtype: float64"
      ]
     },
     "execution_count": 69,
     "metadata": {},
     "output_type": "execute_result"
    }
   ],
   "source": [
    "#Create our target variable\n",
    "y = df1.OCPAMarketValue2022\n",
    "y.head()"
   ]
  },
  {
   "cell_type": "code",
   "execution_count": 70,
   "id": "88207dec-b9ca-49c1-80d6-253046de68af",
   "metadata": {},
   "outputs": [],
   "source": [
    "#Import sklearn train/test split function to create our train test variables\n",
    "from sklearn.model_selection import train_test_split\n",
    "X_train, X_test, y_train, y_test = train_test_split(X,y,test_size=0.2,random_state=10) #Use common parameters"
   ]
  },
  {
   "cell_type": "code",
   "execution_count": 71,
   "id": "31d94ca3-3fd3-463a-b526-bd935ac3cf95",
   "metadata": {},
   "outputs": [
    {
     "data": {
      "text/plain": [
       "0.9330270360897117"
      ]
     },
     "execution_count": 71,
     "metadata": {},
     "output_type": "execute_result"
    }
   ],
   "source": [
    "#Import Linear Regression function to train our model and the score\n",
    "from sklearn.linear_model import LinearRegression\n",
    "LRmodel = LinearRegression()\n",
    "LRmodel.fit(X_train,y_train)\n",
    "LRmodel.score(X_test,y_test)"
   ]
  },
  {
   "cell_type": "raw",
   "id": "f749886d-2594-4958-bf59-2d8872ab4792",
   "metadata": {},
   "source": [
    "We got a great score, but we will stil perform cross-validation"
   ]
  },
  {
   "cell_type": "code",
   "execution_count": 72,
   "id": "fc7a8d38-73ed-4d22-a96b-3c3f1eef1cb0",
   "metadata": {},
   "outputs": [
    {
     "data": {
      "text/plain": [
       "array([0.9830456 , 0.90557119, 0.87616987, 0.96572777, 0.97182284])"
      ]
     },
     "execution_count": 72,
     "metadata": {},
     "output_type": "execute_result"
    }
   ],
   "source": [
    "#Cross-Validation\n",
    "from sklearn.model_selection import ShuffleSplit, cross_val_score\n",
    "cv = ShuffleSplit(n_splits=5, test_size=0.2, random_state=0)\n",
    "cross_val_score(LinearRegression(), X, y, cv=cv)"
   ]
  },
  {
   "cell_type": "raw",
   "id": "32098d1a-2f20-4abf-8afe-b079cfe23de9",
   "metadata": {},
   "source": [
    "Cross-validation gave us great scores, we will proceed with this model. "
   ]
  },
  {
   "cell_type": "code",
   "execution_count": 73,
   "id": "4669298b-5854-4173-a1f9-89c246903fe0",
   "metadata": {},
   "outputs": [
    {
     "name": "stdout",
     "output_type": "stream",
     "text": [
      "[309899.74802451]\n"
     ]
    }
   ],
   "source": [
    "#Use input data to make predictions\n",
    "new_data = np.array([[2000,7000, 2, 1, 0, 4, 2]]) \n",
    "prediction = LRmodel.predict(new_data)\n",
    "print(prediction)"
   ]
  },
  {
   "cell_type": "raw",
   "id": "b8d2c8e1-3a78-4053-90bb-ee0bcf03efc4",
   "metadata": {},
   "source": [
    "Here I udes AI to create multiple input data to test the model"
   ]
  },
  {
   "cell_type": "code",
   "execution_count": 74,
   "id": "91c62598-b8aa-4430-8c3e-637bd298bd77",
   "metadata": {},
   "outputs": [
    {
     "name": "stdout",
     "output_type": "stream",
     "text": [
      "Prediction 1: 309899.75\n",
      "Prediction 2: 289630.79\n",
      "Prediction 3: 352945.66\n",
      "Prediction 4: 287479.12\n",
      "Prediction 5: 321272.22\n"
     ]
    }
   ],
   "source": [
    "# Create multiple new input data points\n",
    "new_data = np.array([\n",
    "    [2000, 7000, 2, 1, 0, 4, 2],  # Example 1\n",
    "    [1800, 6000, 3, 2, 1, 3, 2],  # Example 2\n",
    "    [2500, 8000, 2, 1, 0, 5, 3],  # Example 3\n",
    "    [1600, 5500, 1, 1, 1, 2, 1],  # Example 4\n",
    "    [2200, 7500, 2, 2, 0, 4, 3]   # Example 5\n",
    "])\n",
    "\n",
    "# Predict using your trained model\n",
    "predicted_values = LRmodel.predict(new_data)\n",
    "\n",
    "# Print results\n",
    "for i, prediction in enumerate(predicted_values):\n",
    "    print(f\"Prediction {i+1}: {prediction:.2f}\")\n"
   ]
  },
  {
   "cell_type": "raw",
   "id": "a7e4ac51-b608-4cb2-bee9-c36c0bc1b030",
   "metadata": {},
   "source": [
    "Let's finally use graph our predictions and test variable to see how our model did. "
   ]
  },
  {
   "cell_type": "code",
   "execution_count": 75,
   "id": "8a886c72-3c3a-4de5-9d22-100ffac4745a",
   "metadata": {},
   "outputs": [],
   "source": [
    "predictions = LRmodel.predict(X_test)"
   ]
  },
  {
   "cell_type": "code",
   "execution_count": 76,
   "id": "d2c1f3b9-b44c-493d-8c71-3512c46430e8",
   "metadata": {},
   "outputs": [
    {
     "data": {
      "image/png": "[encoded data removed]",
      "text/plain": [
       "<Figure size 800x600 with 1 Axes>"
      ]
     },
     "metadata": {},
     "output_type": "display_data"
    }
   ],
   "source": [
    "plt.figure(figsize=(8, 6))\n",
    "plt.scatter(y_test, predictions, alpha=0.5, color='blue')  # Scatter plot\n",
    "plt.plot([min(y_test), max(y_test)], [min(y_test), max(y_test)], '--', color='red')  # Perfect predictions line\n",
    "\n",
    "plt.xlabel(\"Actual Prices\")\n",
    "plt.ylabel(\"Predicted Prices\")\n",
    "plt.title(\"Actual vs. Predicted Prices\")\n",
    "plt.show()\n"
   ]
  }
 ],
 "metadata": {
  "kernelspec": {
   "display_name": "Python 3 (ipykernel)",
   "language": "python",
   "name": "python3"
  },
  "language_info": {
   "codemirror_mode": {
    "name": "ipython",
    "version": 3
   },
   "file_extension": ".py",
   "mimetype": "text/x-python",
   "name": "python",
   "nbconvert_exporter": "python",
   "pygments_lexer": "ipython3",
   "version": "3.12.7"
  }
 },
 "nbformat": 4,
 "nbformat_minor": 5
}
